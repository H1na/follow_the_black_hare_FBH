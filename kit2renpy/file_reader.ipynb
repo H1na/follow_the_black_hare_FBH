{
 "cells": [
  {
   "cell_type": "code",
   "execution_count": 1,
   "id": "70ee5fc1",
   "metadata": {},
   "outputs": [],
   "source": [
    "import sqlite3\n",
    "import xml.etree.ElementTree as ET"
   ]
  },
  {
   "cell_type": "code",
   "execution_count": 56,
   "id": "91779c28",
   "metadata": {},
   "outputs": [],
   "source": [
    "def get_scenario_xml(filename):\n",
    "    con = sqlite3.connect(filename)\n",
    "    cursor = con.cursor()\n",
    "    res = cursor.execute(\"SELECT text FROM scenario WHERE is_draft = 0\").fetchall()\n",
    "    return res[0][0]\n",
    "\n",
    "def save_file(scenario, filename):\n",
    "    with open(filename, \"w\") as f:\n",
    "        print(scenario, file=f)\n",
    "\n",
    "def prepate_renpy_output(res):\n",
    "    output = \"\\n\".join(res)\n",
    "    return output.replace(\"\\t\", \"    \")"
   ]
  },
  {
   "cell_type": "code",
   "execution_count": 3,
   "id": "ecc07491",
   "metadata": {},
   "outputs": [],
   "source": [
    "file = \"./Следуй_за_Черным_Зайцем_Версия_2_Новелла (1).kitsp\""
   ]
  },
  {
   "cell_type": "code",
   "execution_count": 4,
   "id": "c1430003",
   "metadata": {},
   "outputs": [],
   "source": [
    "scenario = get_scenario_xml(file)"
   ]
  },
  {
   "cell_type": "code",
   "execution_count": 5,
   "id": "76546ba1",
   "metadata": {},
   "outputs": [],
   "source": [
    "root = ET.fromstring(scenario)"
   ]
  },
  {
   "cell_type": "code",
   "execution_count": 36,
   "id": "3e54fe9f",
   "metadata": {},
   "outputs": [],
   "source": [
    "item = root.find('action')"
   ]
  },
  {
   "cell_type": "code",
   "execution_count": 39,
   "id": "fb95de59",
   "metadata": {},
   "outputs": [],
   "source": [
    "t = item.find(\"v\").text"
   ]
  },
  {
   "cell_type": "code",
   "execution_count": 40,
   "id": "451aa22d",
   "metadata": {},
   "outputs": [
    {
     "data": {
      "text/plain": [
       "'Появляется фон.'"
      ]
     },
     "execution_count": 40,
     "metadata": {},
     "output_type": "execute_result"
    }
   ],
   "source": [
    "t.text"
   ]
  },
  {
   "cell_type": "code",
   "execution_count": null,
   "id": "91affb7f",
   "metadata": {},
   "outputs": [],
   "source": [
    "res = []\n",
    "scene_counter = 1\n",
    "\n",
    "for item in root:\n",
    "#     print(item.tag)\n",
    "    if(item.tag == \"scene_heading\"):\n",
    "        if(scene_counter > 1):\n",
    "            res.append(\"\\tjump scene_{}\\n\".format(scene_counter))            \n",
    "        res.append(\"label scene_{}:\".format(scene_counter))\n",
    "        scene_counter += 1\n",
    "    elif(item.tag==\"dialog\"):\n",
    "        res.append('\\te \"{}\"'.format(item.find(\"v\").text))\n",
    "    elif(item.tag == \"action\"):\n",
    "        res.append('\\tnarrator \"{}\"'.format(item.find(\"v\").text))\n",
    "        \n",
    "        "
   ]
  },
  {
   "cell_type": "code",
   "execution_count": 57,
   "id": "b95cd7a9",
   "metadata": {},
   "outputs": [],
   "source": [
    "output = prepate_renpy_output(res)"
   ]
  },
  {
   "cell_type": "code",
   "execution_count": 59,
   "id": "272350c3",
   "metadata": {
    "scrolled": true
   },
   "outputs": [],
   "source": [
    "save_file(output, \"../src/game/frb.rpy\")"
   ]
  }
 ],
 "metadata": {
  "kernelspec": {
   "display_name": "Python 3 (ipykernel)",
   "language": "python",
   "name": "python3"
  },
  "language_info": {
   "codemirror_mode": {
    "name": "ipython",
    "version": 3
   },
   "file_extension": ".py",
   "mimetype": "text/x-python",
   "name": "python",
   "nbconvert_exporter": "python",
   "pygments_lexer": "ipython3",
   "version": "3.9.6"
  }
 },
 "nbformat": 4,
 "nbformat_minor": 5
}
