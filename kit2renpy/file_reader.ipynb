{
 "cells": [
  {
   "cell_type": "code",
   "execution_count": 20,
   "id": "70ee5fc1",
   "metadata": {},
   "outputs": [],
   "source": [
    "import sqlite3\n",
    "import xml.etree.ElementTree as ET"
   ]
  },
  {
   "cell_type": "code",
   "execution_count": 37,
   "id": "91779c28",
   "metadata": {},
   "outputs": [],
   "source": [
    "def get_scenario_xml(filename):\n",
    "    con = sqlite3.connect(filename)\n",
    "    cursor = con.cursor()\n",
    "    res = cursor.execute(\"SELECT text FROM scenario WHERE is_draft = 0\").fetchall()\n",
    "    return res[0][0]\n",
    "\n",
    "def save_scenario_xml(scenario, filename):\n",
    "    with open(filename, \"w\") as f:\n",
    "        print(scenario, file=f)"
   ]
  },
  {
   "cell_type": "code",
   "execution_count": 35,
   "id": "2949be7d",
   "metadata": {},
   "outputs": [],
   "source": []
  },
  {
   "cell_type": "code",
   "execution_count": 3,
   "id": "ecc07491",
   "metadata": {},
   "outputs": [],
   "source": [
    "file = \"./Следуй_за_Черным_Зайцем_Версия_2_Новелла (1).kitsp\""
   ]
  },
  {
   "cell_type": "code",
   "execution_count": 38,
   "id": "c1430003",
   "metadata": {},
   "outputs": [],
   "source": [
    "scenario = get_scenario_xml(file)"
   ]
  },
  {
   "cell_type": "code",
   "execution_count": 23,
   "id": "76546ba1",
   "metadata": {},
   "outputs": [],
   "source": [
    "root = ET.fromstring(scenario)"
   ]
  },
  {
   "cell_type": "code",
   "execution_count": 39,
   "id": "eb680079",
   "metadata": {},
   "outputs": [],
   "source": [
    "save_scenario_xml(scenario, \"scenario.xml\")"
   ]
  }
 ],
 "metadata": {
  "kernelspec": {
   "display_name": "Python 3 (ipykernel)",
   "language": "python",
   "name": "python3"
  },
  "language_info": {
   "codemirror_mode": {
    "name": "ipython",
    "version": 3
   },
   "file_extension": ".py",
   "mimetype": "text/x-python",
   "name": "python",
   "nbconvert_exporter": "python",
   "pygments_lexer": "ipython3",
   "version": "3.9.6"
  }
 },
 "nbformat": 4,
 "nbformat_minor": 5
}
