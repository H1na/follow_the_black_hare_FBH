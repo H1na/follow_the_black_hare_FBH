{
 "cells": [
  {
   "cell_type": "code",
   "execution_count": 32,
   "id": "70ee5fc1",
   "metadata": {},
   "outputs": [],
   "source": [
    "import sqlite3\n",
    "import xml.etree.ElementTree as ET"
   ]
  },
  {
   "cell_type": "code",
   "execution_count": 80,
   "id": "91779c28",
   "metadata": {},
   "outputs": [],
   "source": [
    "def get_scenario_xml(filename):\n",
    "    con = sqlite3.connect(filename)\n",
    "    cursor = con.cursor()\n",
    "    res = cursor.execute(\"SELECT text FROM scenario WHERE is_draft = 0\").fetchall()\n",
    "    return res[0][0]\n",
    "\n",
    "def save_file(scenario, filename):\n",
    "    with open(filename, \"w\") as f:\n",
    "        print(scenario, file=f)\n",
    "\n",
    "def prepate_renpy_output(res):\n",
    "    output = \"\\n\".join(res)\n",
    "    return output.replace(\"\\t\", \"    \")"
   ]
  },
  {
   "cell_type": "code",
   "execution_count": 61,
   "id": "ecc07491",
   "metadata": {},
   "outputs": [],
   "source": [
    "file = \"./Follow The Black Hare [FBH].kitsp\""
   ]
  },
  {
   "cell_type": "code",
   "execution_count": 87,
   "id": "c1430003",
   "metadata": {},
   "outputs": [],
   "source": [
    "scenario = get_scenario_xml(file)"
   ]
  },
  {
   "cell_type": "code",
   "execution_count": 82,
   "id": "553f9bfb",
   "metadata": {},
   "outputs": [],
   "source": [
    "save_file(scenario, \"scenario.xml\")"
   ]
  },
  {
   "cell_type": "code",
   "execution_count": 88,
   "id": "76546ba1",
   "metadata": {},
   "outputs": [],
   "source": [
    "root = ET.fromstring(scenario)"
   ]
  },
  {
   "cell_type": "code",
   "execution_count": 38,
   "id": "89340581",
   "metadata": {},
   "outputs": [],
   "source": [
    "characters = {\n",
    "    \"АШ\": \"black\"\n",
    "}"
   ]
  },
  {
   "cell_type": "code",
   "execution_count": null,
   "id": "0a56e61d",
   "metadata": {},
   "outputs": [],
   "source": [
    "res = []\n",
    "scene_counter = 1\n",
    "\n",
    "character = None\n",
    "\n",
    "for item in root:\n",
    "    print(item.tag)\n",
    "    text = item.find(\"v\").text\n",
    "    if(item.tag == \"scene_heading\"):\n",
    "        if(scene_counter > 1):\n",
    "            res.append(\"\\n\")            \n",
    "\n",
    "        res.append(\"label {}:\".format(text))\n",
    "        character = None\n",
    "        scene_counter += 1            \n",
    "        \n",
    "    elif(item.tag==\"dialog\"):\n",
    "        if(not character):\n",
    "            print(\"not found person\")\n",
    "            break\n",
    "        res.append('\\t{} \"{}\"'.format(character, text))\n",
    "        \n",
    "    elif(item.tag == \"action\"):\n",
    "        if(not text):\n",
    "            res.append('\\tnarrator \"\"')    \n",
    "            continue\n",
    "        else:\n",
    "            res.append('\\tnarrator \"{}\"'.format(text))\n",
    "            \n",
    "    elif(item.tag == \"noprintable_text\"):\n",
    "        result = text.split(' ')\n",
    "        if(result[0] == \"jump\"):\n",
    "            res.append(\"\\t{}\".format(text))\n",
    "        elif(result[0] == \"scene\"):\n",
    "            res.append(\"\\t{}\".format(text))            \n",
    "        else:\n",
    "            print(\"Unknown command: \", text)\n",
    "    elif(item.tag == \"character\"):\n",
    "        character = \"black\"\n",
    "        res.append(\"\\tshow black_regular\")         \n",
    "        \n",
    "        \n",
    "        "
   ]
  },
  {
   "cell_type": "code",
   "execution_count": 102,
   "id": "213420a5",
   "metadata": {
    "scrolled": true
   },
   "outputs": [],
   "source": [
    "output = prepate_renpy_output(res)"
   ]
  },
  {
   "cell_type": "code",
   "execution_count": 103,
   "id": "b277dce3",
   "metadata": {
    "scrolled": true
   },
   "outputs": [],
   "source": [
    "save_file(output, \"../src/game/frb.rpy\")"
   ]
  }
 ],
 "metadata": {
  "kernelspec": {
   "display_name": "Python 3 (ipykernel)",
   "language": "python",
   "name": "python3"
  },
  "language_info": {
   "codemirror_mode": {
    "name": "ipython",
    "version": 3
   },
   "file_extension": ".py",
   "mimetype": "text/x-python",
   "name": "python",
   "nbconvert_exporter": "python",
   "pygments_lexer": "ipython3",
   "version": "3.9.6"
  }
 },
 "nbformat": 4,
 "nbformat_minor": 5
}
